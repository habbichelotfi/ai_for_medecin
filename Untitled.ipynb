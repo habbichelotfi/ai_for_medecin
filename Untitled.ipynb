{
 "cells": [
  {
   "cell_type": "markdown",
   "id": "7a94c2b2",
   "metadata": {},
   "source": [
    "# Chest X-Ray Medical Diagnosis with Deep Learning\n"
   ]
  },
  {
   "cell_type": "code",
   "execution_count": 1,
   "id": "2e8a9e6e",
   "metadata": {},
   "outputs": [
    {
     "name": "stderr",
     "output_type": "stream",
     "text": [
      "2021-12-13 09:57:15.924464: W tensorflow/stream_executor/platform/default/dso_loader.cc:64] Could not load dynamic library 'libcudart.so.11.0'; dlerror: libcudart.so.11.0: cannot open shared object file: No such file or directory\n",
      "2021-12-13 09:57:15.924492: I tensorflow/stream_executor/cuda/cudart_stub.cc:29] Ignore above cudart dlerror if you do not have a GPU set up on your machine.\n"
     ]
    }
   ],
   "source": [
    "# Import necessary packages\n",
    "import keras\n",
    "from keras import backend as K\n",
    "import matplotlib.pyplot as plt\n",
    "%matplotlib inline\n",
    "import pandas as pd\n",
    "import numpy as np\n",
    "import cv2\n",
    "import sklearn\n",
    "import shap\n",
    "import os\n",
    "import seaborn as sns\n",
    "import time\n",
    "import pickle\n",
    "\n",
    "sns.set()\n",
    "\n",
    "plt.rcParams['figure.figsize'] = [10, 7]"
   ]
  },
  {
   "cell_type": "markdown",
   "id": "37b46ebb",
   "metadata": {},
   "source": [
    "# Data Loading"
   ]
  },
  {
   "cell_type": "code",
   "execution_count": null,
   "id": "3f77a430",
   "metadata": {},
   "outputs": [],
   "source": [
    "# Read csv file containing training datadata\n",
    "train_df = pd.read_csv(\"nih_new/train-small.csv\")\n",
    "valid_df = pd.read_csv(\"nih_new/valid-small.csv\")\n",
    "test_df = pd.read_csv(\"nih_new/test.csv\")\n",
    "print(f'There are {train_df.shape[0]} rows and {train_df.shape[1]} columns in the train data frame')\n",
    "train_df.head()"
   ]
  },
  {
   "cell_type": "code",
   "execution_count": null,
   "id": "5c72d3d0",
   "metadata": {},
   "outputs": [],
   "source": [
    "print(f\"Train set: The total patient ids are {train_df['PatientId'].count()}, from those the unique ids are {train_df['PatientId'].value_counts().shape[0]} \")\n",
    "print(f\"Validation set: The total patient ids are {valid_df['PatientId'].count()}\")\n",
    "print(f\"Test set: The total patient ids are {test_df['PatientId'].count()}\")"
   ]
  },
  {
   "cell_type": "markdown",
   "id": "8e6df21e",
   "metadata": {},
   "source": [
    "## Checking if there is leakage"
   ]
  },
  {
   "cell_type": "code",
   "execution_count": null,
   "id": "46a6468d",
   "metadata": {},
   "outputs": [],
   "source": [
    "def check_for_leakage(df1, df2, patient_col):\n",
    "    \"\"\"\n",
    "    Return True if there any patients are in both df1 and df2.\n",
    "\n",
    "    Args:\n",
    "        df1 (dataframe): dataframe describing first dataset\n",
    "        df2 (dataframe): dataframe describing second dataset\n",
    "        patient_col (str): string name of column with patient IDs\n",
    "    \n",
    "    Returns:\n",
    "        leakage (bool): True if there is leakage, otherwise False\n",
    "    \"\"\"\n",
    "    \n",
    "    df1_patients_unique = set(df1[patient_col])\n",
    "    df2_patients_unique = set(df2[patient_col])\n",
    "    \n",
    "    patients_in_both_groups = list(df1_patients_unique.intersection(df2_patients_unique))\n",
    "\n",
    "    # leakage contains true if there is patient overlap, otherwise false.\n",
    "    leakage = len(patients_in_both_groups) > 0 \n",
    "        \n",
    "    return leakage"
   ]
  },
  {
   "cell_type": "code",
   "execution_count": null,
   "id": "967e2784",
   "metadata": {},
   "outputs": [],
   "source": [
    "print(\"leakage between train and test: {}\".format(check_for_leakage(train_df, test_df, 'PatientId')))\n",
    "print(\"leakage between valid and test: {}\".format(check_for_leakage(valid_df, test_df, 'PatientId')))"
   ]
  },
  {
   "cell_type": "markdown",
   "id": "a9f64781",
   "metadata": {},
   "source": [
    "## Data Exploration"
   ]
  },
  {
   "cell_type": "code",
   "execution_count": null,
   "id": "f799b6ae",
   "metadata": {},
   "outputs": [],
   "source": [
    "columns = train_df.keys()\n",
    "columns = list(columns)\n",
    "print(columns)"
   ]
  },
  {
   "cell_type": "code",
   "execution_count": null,
   "id": "66061b32",
   "metadata": {},
   "outputs": [],
   "source": [
    "# Remove unnecesary elements\n",
    "columns.remove('Image')\n",
    "columns.remove('PatientId')\n",
    "# Get the total classes\n",
    "print(f\"There are {len(columns)} columns of labels for these conditions: {columns}\")\n",
    "# Print out the number of positive labels for each class\n",
    "for column in columns:\n",
    "    print(f\"The class {column} has {train_df[column].sum()} samples\")"
   ]
  },
  {
   "cell_type": "markdown",
   "id": "549fc8ba",
   "metadata": {},
   "source": [
    "## Data Visualization\n",
    "Using the image names listed in the csv file, retrieve the image associated with each row of data in your dataframe. "
   ]
  },
  {
   "cell_type": "code",
   "execution_count": null,
   "id": "893bab45",
   "metadata": {},
   "outputs": [],
   "source": [
    "# Extract numpy values from Image column in data frame\n",
    "images = train_df['Image'].values\n",
    "\n",
    "# Extract 9 random images from it\n",
    "random_images = [np.random.choice(images) for i in range(9)]\n",
    "\n",
    "# Location of the image dir\n",
    "img_dir = 'nih_new/images-small/'\n",
    "\n",
    "print('Display Random Images')\n",
    "\n",
    "# Adjust the size of your images\n",
    "plt.figure(figsize=(20,10))\n",
    "\n",
    "# Iterate and plot random images\n",
    "for i in range(9):\n",
    "    plt.subplot(3, 3, i + 1)\n",
    "    img = plt.imread(os.path.join(img_dir, random_images[i]))\n",
    "    plt.imshow(img, cmap='gray')\n",
    "    plt.axis('off')\n",
    "    \n",
    "# Adjust subplot parameters to give specified padding\n",
    "plt.tight_layout()   "
   ]
  },
  {
   "cell_type": "code",
   "execution_count": null,
   "id": "0525dfa4",
   "metadata": {},
   "outputs": [],
   "source": [
    "# Get the first image that was listed in the train_df dataframe\n",
    "sample_img = train_df.Image[0]\n",
    "raw_image = plt.imread(os.path.join(img_dir, sample_img))\n",
    "plt.imshow(raw_image, cmap='gray')\n",
    "plt.grid(color='w', linestyle='-', linewidth=1)\n",
    "plt.colorbar()\n",
    "plt.title('Raw Chest X Ray Image')\n",
    "print(f\"The dimensions of the image are {raw_image.shape[0]} pixels width and {raw_image.shape[1]} pixels height, one single color channel\")\n",
    "print(f\"The maximum pixel value is {raw_image.max():.4f} and the minimum is {raw_image.min():.4f}\")\n",
    "print(f\"The mean value of the pixels is {raw_image.mean():.4f} and the standard deviation is {raw_image.std():.4f}\")"
   ]
  },
  {
   "cell_type": "markdown",
   "id": "e59866b9",
   "metadata": {},
   "source": [
    "# Image processing"
   ]
  },
  {
   "cell_type": "code",
   "execution_count": null,
   "id": "f7d699d9",
   "metadata": {},
   "outputs": [],
   "source": []
  },
  {
   "cell_type": "code",
   "execution_count": null,
   "id": "a39d6f7c",
   "metadata": {},
   "outputs": [],
   "source": []
  },
  {
   "cell_type": "code",
   "execution_count": null,
   "id": "ac8829a5",
   "metadata": {},
   "outputs": [],
   "source": []
  },
  {
   "cell_type": "code",
   "execution_count": null,
   "id": "b005fbef",
   "metadata": {},
   "outputs": [],
   "source": []
  }
 ],
 "metadata": {
  "kernelspec": {
   "display_name": "Python 3 (ipykernel)",
   "language": "python",
   "name": "python3"
  },
  "language_info": {
   "codemirror_mode": {
    "name": "ipython",
    "version": 3
   },
   "file_extension": ".py",
   "mimetype": "text/x-python",
   "name": "python",
   "nbconvert_exporter": "python",
   "pygments_lexer": "ipython3",
   "version": "3.8.10"
  }
 },
 "nbformat": 4,
 "nbformat_minor": 5
}
